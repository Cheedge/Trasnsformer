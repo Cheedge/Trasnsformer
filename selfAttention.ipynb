{
 "cells": [
  {
   "cell_type": "markdown",
   "id": "rocky-major",
   "metadata": {},
   "source": [
    "## blocks"
   ]
  },
  {
   "cell_type": "code",
   "execution_count": 1,
   "id": "compressed-victory",
   "metadata": {},
   "outputs": [],
   "source": [
    "import torch.nn.functional as F\n",
    "import torch\n",
    "from torch import nn\n",
    "\n",
    "class selfAttention(nn.Module):\n",
    "    \n",
    "    def __init__(self, num_head, embed_dim):\n",
    "        super(selfAttention, self).__init__()\n",
    "        self.num_head = num_head\n",
    "        self.embed_dim = embed_dim\n",
    "        # prepare method:(init W matrix)\n",
    "        self.q_lin = nn.Linear(embed_dim, num_head * embed_dim, bias=False)\n",
    "        self.k_lin = nn.Linear(embed_dim, num_head * embed_dim, bias=False)\n",
    "        self.v_lin = nn.Linear(embed_dim, num_head * embed_dim, bias=False)\n",
    "        self.softmax = nn.Softmax(dim = -1)\n",
    "        self.concat_m = nn.Linear(num_head * embed_dim, embed_dim, bias=False)\n",
    "            \n",
    "    def forward(self, x, masked):\n",
    "        num_batch, num_vocab, _ = x.shape\n",
    "\n",
    "        query = self.q_lin(x).reshape(num_batch, num_vocab, self.num_head, self.embed_dim)\n",
    "        key = self.k_lin(x).reshape(num_batch, num_vocab, self.num_head, self.embed_dim)\n",
    "        value = self.v_lin(x).reshape(num_batch, num_vocab, self.num_head, self.embed_dim)\n",
    "#         print(key.shape)\n",
    "        raw_w = torch.einsum('bvhe,bwhe->bvhw', query, key)/(self.embed_dim*self.num_head)**(1/2)\n",
    "#         print(raw_w.shape)\n",
    "        #raw_w = torch.bmm(query, key.transpose(2,3))/torch.sqrt(self.embed_dim)\n",
    "        \n",
    "        if masked == True:\n",
    "            mask_idx = torch.triu_indices(num_vocab, num_vocab, offset=1)\n",
    "            raw_w[:, mask_idx[0], :, mask_idx[1]] = float('-inf')\n",
    "        \n",
    "        w = self.softmax(raw_w)\n",
    "#         print(w.transpose(1,2))\n",
    "        \n",
    "        #y = torch.bmm(v, w)\n",
    "        y = torch.einsum('bvhe, bvhv->bvhe', value, w)\n",
    "#         print(y.shape)\n",
    "        y_concat = y.reshape(num_batch, num_vocab, self.num_head*self.embed_dim)\n",
    "        z = self.concat_m(y_concat)\n",
    "        return z\n",
    "    \n",
    "    \n",
    "    \n",
    "    def en_de_forward(self, x, z, masked):\n",
    "        num_batch, num_vocab, _ = x.shape\n",
    "\n",
    "        query = self.q_lin(x).reshape(num_batch, num_vocab, self.num_head, self.embed_dim)\n",
    "        key = self.k_lin(z).reshape(num_batch, num_vocab, self.num_head, self.embed_dim)\n",
    "        value = self.v_lin(z).reshape(num_batch, num_vocab, self.num_head, self.embed_dim)\n",
    "#         print(key.shape)\n",
    "        raw_w = torch.einsum('bvhe,bwhe->bvhw', query, key)/(self.embed_dim*self.num_head)**(1/2)\n",
    "#         print(raw_w.shape)\n",
    "        #raw_w = torch.bmm(query, key.transpose(2,3))/torch.sqrt(self.embed_dim)\n",
    "        \n",
    "        if masked == True:\n",
    "            mask_idx = torch.triu_indices(num_vocab, num_vocab, offset=1)\n",
    "            raw_w[:, mask_idx[0], :, mask_idx[1]] = float('-inf')\n",
    "        \n",
    "        w = self.softmax(raw_w)\n",
    "#         print(w.transpose(1,2))\n",
    "        \n",
    "        #y = torch.bmm(v, w)\n",
    "        y = torch.einsum('bvhe, bvhv->bvhe', value, w)\n",
    "#         print(y.shape)\n",
    "        y_concat = y.reshape(num_batch, num_vocab, self.num_head*self.embed_dim)\n",
    "        z_out = self.concat_m(y_concat)\n",
    "        return z_out\n",
    "        "
   ]
  },
  {
   "cell_type": "code",
   "execution_count": 2,
   "id": "mechanical-psychology",
   "metadata": {},
   "outputs": [],
   "source": [
    "class FeedFoward(nn.Module):\n",
    "    def __init__(self, embed_dim, ff_dim):\n",
    "        super(FeedFoward, self).__init__()\n",
    "        #self.embed_dim = embed_dim\n",
    "        self.lin_1 = nn.Linear(embed_dim, ff_dim, bias=False)\n",
    "        self.relu = nn.ReLU()\n",
    "        self.lin_2 = nn.Linear(ff_dim, embed_dim, bias=False)\n",
    "        \n",
    "    def forward(self, z):\n",
    "        z_lin1 = self.lin_1(z)\n",
    "#         print(z_lin1.shape)\n",
    "        z_relu = self.relu(z_lin1)\n",
    "#         print(z_relu.shape)\n",
    "        z_ff = self.lin_2(z_relu)\n",
    "        \n",
    "        return z_ff"
   ]
  },
  {
   "cell_type": "code",
   "execution_count": 3,
   "id": "fewer-bankruptcy",
   "metadata": {},
   "outputs": [],
   "source": [
    "class PositionEncode(nn.Module):\n",
    "    pass\n",
    "\n",
    "class Embed_Token_Position(nn.Module):\n",
    "    def __init__(self, num_vocab, seq_len, embed_dim):\n",
    "        super(Embed_Token_Position, self).__init__()\n",
    "        self.voc_embed = nn.Embedding(num_vocab, embed_dim)\n",
    "        print(num_vocab, embed_dim)\n",
    "        self.pos_embed = nn.Embedding(seq_len, embed_dim)\n",
    "#         self.token_emb = nn.Embedding(num_tokens, k)\n",
    "#         tokens = self.token_emb(x)\n",
    "        \n",
    "    def forward(self, x):\n",
    "        num_batch, num_vocab = x.shape\n",
    "        p = torch.arange(num_vocab)\n",
    "        #print(x.dtype, torch.tensor(x.shape))\n",
    "        voc = self.voc_embed(x)\n",
    "        #print(voc.shape)\n",
    "        pos = self.pos_embed(p)[None, :, :].expand(voc.shape)\n",
    "        \n",
    "        out = voc + pos\n",
    "        \n",
    "        return out"
   ]
  },
  {
   "cell_type": "code",
   "execution_count": 4,
   "id": "early-convert",
   "metadata": {},
   "outputs": [
    {
     "name": "stdout",
     "output_type": "stream",
     "text": [
      "3 4\n",
      "torch.Size([6, 3, 4])\n"
     ]
    }
   ],
   "source": [
    "n_b, n_h, n_v, e_d = 6, 8, 3, 4\n",
    "el, dl = 6, 6\n",
    "seqlen=n_v\n",
    "ff_dim, num_class = 10, 9\n",
    "example_x = torch.randint(n_v, (n_b, n_v))#, e_d))\n",
    "# example= torch.randn(n_b, n_v, e_d)\n",
    "etp = Embed_Token_Position(n_v, seqlen, e_d)\n",
    "out = etp(example_x)\n",
    "print(out.shape)\n",
    "# ve = nn.Embedding(n_v, e_d)\n",
    "# vo = ve(example_x)\n",
    "#print(vo.shape)"
   ]
  },
  {
   "cell_type": "markdown",
   "id": "joined-spread",
   "metadata": {},
   "source": [
    "## Encoder"
   ]
  },
  {
   "cell_type": "code",
   "execution_count": 5,
   "id": "signal-headline",
   "metadata": {},
   "outputs": [],
   "source": [
    "class Encoder(nn.Module):\n",
    "    def __init__(self, num_head, embed_dim, ff_dim, drop_prob):\n",
    "        super(Encoder, self).__init__()\n",
    "        # need layers and param setting\n",
    "\n",
    "        self.attention = selfAttention(num_head, embed_dim)\n",
    "        self.layernorm = nn.LayerNorm(normalized_shape=embed_dim)\n",
    "        self.feedforward = FeedFoward(embed_dim, ff_dim)\n",
    "        self.drop = nn.Dropout(drop_prob)\n",
    "#         model = nn.Sequantial(selfAttention(num_head, embed_dim),\n",
    "#                               nn.LayerNorm()\n",
    "#                               FeedFoward(embed_dim, hidden_dim)\n",
    "#                               nn.LayerNorm()\n",
    "#         )\n",
    "        \n",
    "    def forward(self, x):\n",
    "#         self.layernorm = nn.LayerNorm(normalized_shape = x.shape)\n",
    "        z = self.drop(self.attention.forward(x, False))\n",
    "        z_1 = self.layernorm(z+x)\n",
    "        \n",
    "        z_2 = self.drop(self.feedforward.forward(z_1))\n",
    "        out = self.layernorm(z_2+z_1)\n",
    "        \n",
    "        return out\n",
    "        \n",
    "        "
   ]
  },
  {
   "cell_type": "markdown",
   "id": "attached-popularity",
   "metadata": {},
   "source": [
    "## Decoder"
   ]
  },
  {
   "cell_type": "code",
   "execution_count": 6,
   "id": "mobile-latvia",
   "metadata": {},
   "outputs": [],
   "source": [
    "class Decoder(nn.Module):\n",
    "    def __init__(self, num_head, embed_dim, ff_dim, drop_prob):\n",
    "        super(Decoder, self).__init__()\n",
    "        self.attention = selfAttention(num_head, embed_dim)\n",
    "        self.feedforward = FeedFoward(embed_dim, ff_dim)\n",
    "        self.layernorm = nn.LayerNorm(normalized_shape = embed_dim)\n",
    "        self.drop = nn.Dropout(drop_prob)\n",
    "        \n",
    "    def forward(self, x, z):\n",
    "        assert x.shape == z.shape\n",
    "#         self.layernorm = nn.LayerNorm(normalized_shape = x.shape)\n",
    "        de_z0 = self.drop(self.attention.forward(x, True))\n",
    "        de_out1 = self.layernorm(de_z0+x)\n",
    "        \n",
    "        de_z1 = self.drop(self.attention.en_de_forward(de_out1, z, False))\n",
    "        de_out2 = self.layernorm(de_z1+de_out1)\n",
    "        \n",
    "        de_z2 = self.drop(self.feedforward.forward(de_out2))\n",
    "        out = self.layernorm(de_z2+de_out2)\n",
    "        \n",
    "        return out"
   ]
  },
  {
   "cell_type": "markdown",
   "id": "mental-columbia",
   "metadata": {},
   "source": [
    "## Tranformer"
   ]
  },
  {
   "cell_type": "code",
   "execution_count": 7,
   "id": "regular-geneva",
   "metadata": {},
   "outputs": [],
   "source": [
    "class Classify_Transformer(nn.Module):\n",
    "    def __init__(self, num_head, num_vocab, seq_len, embed_dim, ff_dim, \n",
    "                 num_class, en_layers, de_layers, drop_p):\n",
    "        super(Classify_Transformer, self).__init__()\n",
    "        self.tp = Embed_Token_Position(num_vocab, seq_len, embed_dim)\n",
    "        self.drop = nn.Dropout(drop_p)\n",
    "        self.encoders = nn.ModuleList([Encoder(num_head, embed_dim, ff_dim, drop_p) for i in range(en_layers)])\n",
    "        self.decoders = nn.ModuleList([Decoder(num_head, embed_dim, ff_dim, drop_p) for i in range(de_layers)])\n",
    "#         self.encoder = Encoder(num_head, embed_dim, ff_dim)\n",
    "#         self.decoder = Decoder(num_head, embed_dim, ff_dim)\n",
    "        self.linear = nn.Linear(embed_dim, num_class)\n",
    "#         self.logsoftmax = F.log_softmax(dim=2)\n",
    "        \n",
    "\n",
    "    def forward(self, x):\n",
    "        tokpos = self.drop(self.tp(x))\n",
    "        z_en = self.encoders(tokpos)\n",
    "        out_de = self.decoders(tokpos, z_en)\n",
    "        score = F.log_softmax(self.linear(out_de), dim = 2)\n",
    "        \n",
    "        return score\n",
    "        \n",
    "    \n",
    "class Generat_Transformer(nn.Module):\n",
    "    def __init__(self, num_head, embed_dim, ff_dim, num_vocab):\n",
    "        super(Generat_Transformer, self).__init__()\n",
    "        pass"
   ]
  },
  {
   "cell_type": "markdown",
   "id": "double-precipitation",
   "metadata": {},
   "source": [
    "## simple check"
   ]
  },
  {
   "cell_type": "code",
   "execution_count": 8,
   "id": "gentle-gregory",
   "metadata": {},
   "outputs": [
    {
     "name": "stdout",
     "output_type": "stream",
     "text": [
      "torch.Size([6, 3, 4])\n"
     ]
    }
   ],
   "source": [
    "# a = torch.randn(2, 3, 4*5)\n",
    "# #b = a.reshape(1, 3, 2, 1)\n",
    "# b=a.view(2, 3, 4, 5)\n",
    "# c=a.reshape(2, 3, 4, 5)\n",
    "# print(c.shape)\n",
    "n_b, n_h, n_v, e_d = 6, 8, 3, 4\n",
    "example= torch.randn(n_b, n_v, e_d)\n",
    "# cc=nn.LayerNorm(normalized_shape=example.shape)\n",
    "# cc(example)\n",
    "# atention=selfAttention(n_h, e_d)\n",
    "# z = atention.forward(example, False)\n",
    "\n",
    "# ff = FeedFoward(e_d, 10)\n",
    "# z_ff = ff.foward(z)\n",
    "\n",
    "encod = Encoder(n_h, e_d, 10, 0.1)\n",
    "z = encod.forward(example)\n",
    "\n",
    "decod = Decoder(n_h, e_d, 10, 0.1)\n",
    "out = decod.forward(example, z)\n",
    "print(out.shape)\n",
    "    "
   ]
  },
  {
   "cell_type": "code",
   "execution_count": 9,
   "id": "greater-guidance",
   "metadata": {},
   "outputs": [
    {
     "name": "stdout",
     "output_type": "stream",
     "text": [
      "tensor([[0, 0, 1],\n",
      "        [1, 2, 2]])\n"
     ]
    },
    {
     "data": {
      "text/plain": [
       "tensor([[[[-1.2016,    -inf,    -inf],\n",
       "          [ 1.9133, -0.0823,    -inf],\n",
       "          [-0.5916,  0.3619,  0.1267]],\n",
       "\n",
       "         [[-0.1518,    -inf,    -inf],\n",
       "          [-0.4162,  0.3867,    -inf],\n",
       "          [ 1.5206,  1.8693,  1.8352]]],\n",
       "\n",
       "\n",
       "        [[[ 1.8713,    -inf,    -inf],\n",
       "          [ 0.9486,  0.3666,    -inf],\n",
       "          [-0.0640, -0.7142, -1.6808]],\n",
       "\n",
       "         [[ 0.5539,    -inf,    -inf],\n",
       "          [-0.9549, -1.3577,    -inf],\n",
       "          [ 0.1060, -0.7263, -0.2244]]]])"
      ]
     },
     "execution_count": 9,
     "metadata": {},
     "output_type": "execute_result"
    }
   ],
   "source": [
    "B, C, H, W = 6, 3, 8, 3\n",
    "#x = torch.randn(B, C, H, W)\n",
    "x = torch.randn(2, 3, 2, 3)\n",
    "indices = torch.triu_indices(C, W, offset=1) # row and col.\n",
    "print(indices)\n",
    "x[:, indices[0], :, indices[1]] = float('-inf')\n",
    "x.transpose(1,2)\n",
    "\n",
    "# y = torch.where(x > x.view(B, C, -1).mean(2)[:, :, None, None], torch.tensor([1.]), torch.tensor([0.]))\n",
    "# print(x,'\\n',x.view(B, C, -1).mean(2)[:, :, None, None])"
   ]
  },
  {
   "cell_type": "code",
   "execution_count": 10,
   "id": "grateful-refund",
   "metadata": {},
   "outputs": [
    {
     "name": "stdout",
     "output_type": "stream",
     "text": [
      "tensor([0, 1, 2])\n",
      "torch.Size([6, 3, 4])\n"
     ]
    }
   ],
   "source": [
    "b, t, k = 6, 3, 4\n",
    "pos_emb = nn.Embedding(10, k)\n",
    "positions = torch.arange(t)\n",
    "print(positions)\n",
    "positions = pos_emb(positions)[None, :, :].expand(b, t, k)\n",
    "print(positions.shape)"
   ]
  },
  {
   "cell_type": "code",
   "execution_count": 11,
   "id": "ideal-leave",
   "metadata": {},
   "outputs": [
    {
     "name": "stdout",
     "output_type": "stream",
     "text": [
      "3 4\n"
     ]
    },
    {
     "ename": "TypeError",
     "evalue": "forward() takes 1 positional argument but 2 were given",
     "output_type": "error",
     "traceback": [
      "\u001b[0;31m---------------------------------------------------------------------------\u001b[0m",
      "\u001b[0;31mTypeError\u001b[0m                                 Traceback (most recent call last)",
      "\u001b[0;32m<ipython-input-11-ee4a90c2fa71>\u001b[0m in \u001b[0;36m<module>\u001b[0;34m\u001b[0m\n\u001b[1;32m      6\u001b[0m \u001b[0mexample_x\u001b[0m \u001b[0;34m=\u001b[0m \u001b[0mtorch\u001b[0m\u001b[0;34m.\u001b[0m\u001b[0mrandint\u001b[0m\u001b[0;34m(\u001b[0m\u001b[0mn_v\u001b[0m\u001b[0;34m,\u001b[0m \u001b[0;34m(\u001b[0m\u001b[0mn_b\u001b[0m\u001b[0;34m,\u001b[0m \u001b[0mn_v\u001b[0m\u001b[0;34m)\u001b[0m\u001b[0;34m)\u001b[0m\u001b[0;34m\u001b[0m\u001b[0;34m\u001b[0m\u001b[0m\n\u001b[1;32m      7\u001b[0m \u001b[0mTrans\u001b[0m \u001b[0;34m=\u001b[0m \u001b[0mClassify_Transformer\u001b[0m\u001b[0;34m(\u001b[0m\u001b[0mn_h\u001b[0m\u001b[0;34m,\u001b[0m \u001b[0mn_v\u001b[0m\u001b[0;34m,\u001b[0m \u001b[0mseqlen\u001b[0m\u001b[0;34m,\u001b[0m \u001b[0me_d\u001b[0m\u001b[0;34m,\u001b[0m \u001b[0mff_dim\u001b[0m\u001b[0;34m,\u001b[0m \u001b[0mnum_class\u001b[0m\u001b[0;34m,\u001b[0m \u001b[0mel\u001b[0m\u001b[0;34m,\u001b[0m \u001b[0mdl\u001b[0m\u001b[0;34m,\u001b[0m \u001b[0;36m0.1\u001b[0m\u001b[0;34m)\u001b[0m\u001b[0;34m\u001b[0m\u001b[0;34m\u001b[0m\u001b[0m\n\u001b[0;32m----> 8\u001b[0;31m \u001b[0mout\u001b[0m \u001b[0;34m=\u001b[0m \u001b[0mTrans\u001b[0m\u001b[0;34m(\u001b[0m\u001b[0mexample_x\u001b[0m\u001b[0;34m)\u001b[0m\u001b[0;34m\u001b[0m\u001b[0;34m\u001b[0m\u001b[0m\n\u001b[0m",
      "\u001b[0;32m~/.local/lib/python3.8/site-packages/torch/nn/modules/module.py\u001b[0m in \u001b[0;36m_call_impl\u001b[0;34m(self, *input, **kwargs)\u001b[0m\n\u001b[1;32m    887\u001b[0m             \u001b[0mresult\u001b[0m \u001b[0;34m=\u001b[0m \u001b[0mself\u001b[0m\u001b[0;34m.\u001b[0m\u001b[0m_slow_forward\u001b[0m\u001b[0;34m(\u001b[0m\u001b[0;34m*\u001b[0m\u001b[0minput\u001b[0m\u001b[0;34m,\u001b[0m \u001b[0;34m**\u001b[0m\u001b[0mkwargs\u001b[0m\u001b[0;34m)\u001b[0m\u001b[0;34m\u001b[0m\u001b[0;34m\u001b[0m\u001b[0m\n\u001b[1;32m    888\u001b[0m         \u001b[0;32melse\u001b[0m\u001b[0;34m:\u001b[0m\u001b[0;34m\u001b[0m\u001b[0;34m\u001b[0m\u001b[0m\n\u001b[0;32m--> 889\u001b[0;31m             \u001b[0mresult\u001b[0m \u001b[0;34m=\u001b[0m \u001b[0mself\u001b[0m\u001b[0;34m.\u001b[0m\u001b[0mforward\u001b[0m\u001b[0;34m(\u001b[0m\u001b[0;34m*\u001b[0m\u001b[0minput\u001b[0m\u001b[0;34m,\u001b[0m \u001b[0;34m**\u001b[0m\u001b[0mkwargs\u001b[0m\u001b[0;34m)\u001b[0m\u001b[0;34m\u001b[0m\u001b[0;34m\u001b[0m\u001b[0m\n\u001b[0m\u001b[1;32m    890\u001b[0m         for hook in itertools.chain(\n\u001b[1;32m    891\u001b[0m                 \u001b[0m_global_forward_hooks\u001b[0m\u001b[0;34m.\u001b[0m\u001b[0mvalues\u001b[0m\u001b[0;34m(\u001b[0m\u001b[0;34m)\u001b[0m\u001b[0;34m,\u001b[0m\u001b[0;34m\u001b[0m\u001b[0;34m\u001b[0m\u001b[0m\n",
      "\u001b[0;32m<ipython-input-7-d8df9def2d4f>\u001b[0m in \u001b[0;36mforward\u001b[0;34m(self, x)\u001b[0m\n\u001b[1;32m     15\u001b[0m     \u001b[0;32mdef\u001b[0m \u001b[0mforward\u001b[0m\u001b[0;34m(\u001b[0m\u001b[0mself\u001b[0m\u001b[0;34m,\u001b[0m \u001b[0mx\u001b[0m\u001b[0;34m)\u001b[0m\u001b[0;34m:\u001b[0m\u001b[0;34m\u001b[0m\u001b[0;34m\u001b[0m\u001b[0m\n\u001b[1;32m     16\u001b[0m         \u001b[0mtokpos\u001b[0m \u001b[0;34m=\u001b[0m \u001b[0mself\u001b[0m\u001b[0;34m.\u001b[0m\u001b[0mdrop\u001b[0m\u001b[0;34m(\u001b[0m\u001b[0mself\u001b[0m\u001b[0;34m.\u001b[0m\u001b[0mtp\u001b[0m\u001b[0;34m(\u001b[0m\u001b[0mx\u001b[0m\u001b[0;34m)\u001b[0m\u001b[0;34m)\u001b[0m\u001b[0;34m\u001b[0m\u001b[0;34m\u001b[0m\u001b[0m\n\u001b[0;32m---> 17\u001b[0;31m         \u001b[0mz_en\u001b[0m \u001b[0;34m=\u001b[0m \u001b[0mself\u001b[0m\u001b[0;34m.\u001b[0m\u001b[0mencoders\u001b[0m\u001b[0;34m(\u001b[0m\u001b[0mtokpos\u001b[0m\u001b[0;34m)\u001b[0m\u001b[0;34m\u001b[0m\u001b[0;34m\u001b[0m\u001b[0m\n\u001b[0m\u001b[1;32m     18\u001b[0m         \u001b[0mout_de\u001b[0m \u001b[0;34m=\u001b[0m \u001b[0mself\u001b[0m\u001b[0;34m.\u001b[0m\u001b[0mdecoders\u001b[0m\u001b[0;34m(\u001b[0m\u001b[0mtokpos\u001b[0m\u001b[0;34m,\u001b[0m \u001b[0mz_en\u001b[0m\u001b[0;34m)\u001b[0m\u001b[0;34m\u001b[0m\u001b[0;34m\u001b[0m\u001b[0m\n\u001b[1;32m     19\u001b[0m         \u001b[0mscore\u001b[0m \u001b[0;34m=\u001b[0m \u001b[0mF\u001b[0m\u001b[0;34m.\u001b[0m\u001b[0mlog_softmax\u001b[0m\u001b[0;34m(\u001b[0m\u001b[0mself\u001b[0m\u001b[0;34m.\u001b[0m\u001b[0mlinear\u001b[0m\u001b[0;34m(\u001b[0m\u001b[0mout_de\u001b[0m\u001b[0;34m)\u001b[0m\u001b[0;34m,\u001b[0m \u001b[0mdim\u001b[0m \u001b[0;34m=\u001b[0m \u001b[0;36m2\u001b[0m\u001b[0;34m)\u001b[0m\u001b[0;34m\u001b[0m\u001b[0;34m\u001b[0m\u001b[0m\n",
      "\u001b[0;32m~/.local/lib/python3.8/site-packages/torch/nn/modules/module.py\u001b[0m in \u001b[0;36m_call_impl\u001b[0;34m(self, *input, **kwargs)\u001b[0m\n\u001b[1;32m    887\u001b[0m             \u001b[0mresult\u001b[0m \u001b[0;34m=\u001b[0m \u001b[0mself\u001b[0m\u001b[0;34m.\u001b[0m\u001b[0m_slow_forward\u001b[0m\u001b[0;34m(\u001b[0m\u001b[0;34m*\u001b[0m\u001b[0minput\u001b[0m\u001b[0;34m,\u001b[0m \u001b[0;34m**\u001b[0m\u001b[0mkwargs\u001b[0m\u001b[0;34m)\u001b[0m\u001b[0;34m\u001b[0m\u001b[0;34m\u001b[0m\u001b[0m\n\u001b[1;32m    888\u001b[0m         \u001b[0;32melse\u001b[0m\u001b[0;34m:\u001b[0m\u001b[0;34m\u001b[0m\u001b[0;34m\u001b[0m\u001b[0m\n\u001b[0;32m--> 889\u001b[0;31m             \u001b[0mresult\u001b[0m \u001b[0;34m=\u001b[0m \u001b[0mself\u001b[0m\u001b[0;34m.\u001b[0m\u001b[0mforward\u001b[0m\u001b[0;34m(\u001b[0m\u001b[0;34m*\u001b[0m\u001b[0minput\u001b[0m\u001b[0;34m,\u001b[0m \u001b[0;34m**\u001b[0m\u001b[0mkwargs\u001b[0m\u001b[0;34m)\u001b[0m\u001b[0;34m\u001b[0m\u001b[0;34m\u001b[0m\u001b[0m\n\u001b[0m\u001b[1;32m    890\u001b[0m         for hook in itertools.chain(\n\u001b[1;32m    891\u001b[0m                 \u001b[0m_global_forward_hooks\u001b[0m\u001b[0;34m.\u001b[0m\u001b[0mvalues\u001b[0m\u001b[0;34m(\u001b[0m\u001b[0;34m)\u001b[0m\u001b[0;34m,\u001b[0m\u001b[0;34m\u001b[0m\u001b[0;34m\u001b[0m\u001b[0m\n",
      "\u001b[0;31mTypeError\u001b[0m: forward() takes 1 positional argument but 2 were given"
     ]
    }
   ],
   "source": [
    "n_b, n_h, n_v, e_d = 6, 8, 3, 4\n",
    "el, dl = 6, 6\n",
    "seqlen=n_v\n",
    "ff_dim, num_class = 10, 9\n",
    "example= torch.randn(n_b, n_v, e_d)\n",
    "example_x = torch.randint(n_v, (n_b, n_v))\n",
    "Trans = Classify_Transformer(n_h, n_v, seqlen, e_d, ff_dim, num_class, el, dl, 0.1)\n",
    "out = Trans(example_x)"
   ]
  },
  {
   "cell_type": "markdown",
   "id": "assigned-princess",
   "metadata": {},
   "source": [
    "## Example"
   ]
  },
  {
   "cell_type": "code",
   "execution_count": null,
   "id": "abroad-course",
   "metadata": {},
   "outputs": [],
   "source": [
    "if __name__ == \"__main__\":\n",
    "    device = torch.device(\"cuda\" if torch.cuda.is_available() else \"cpu\")\n",
    "    print(device)\n",
    "\n",
    "    x = torch.tensor([[1, 5, 6, 4, 3, 9, 5, 2, 0], [1, 8, 7, 3, 4, 5, 6, 7, 2]]).to(\n",
    "        device\n",
    "    )\n",
    "    trg = torch.tensor([[1, 7, 4, 3, 5, 9, 2, 0], [1, 5, 6, 2, 4, 7, 6, 2]]).to(device)\n",
    "\n",
    "    src_pad_idx = 0\n",
    "    trg_pad_idx = 0\n",
    "    src_vocab_size = 10\n",
    "    trg_vocab_size = 10\n",
    "    model = Transformer(src_vocab_size, trg_vocab_size, src_pad_idx, trg_pad_idx, device=device).to(\n",
    "        device\n",
    "    )\n",
    "    out = model(x, trg[:, :-1])\n",
    "    print(out.shape)"
   ]
  }
 ],
 "metadata": {
  "kernelspec": {
   "display_name": "Python 3",
   "language": "python",
   "name": "python3"
  },
  "language_info": {
   "codemirror_mode": {
    "name": "ipython",
    "version": 3
   },
   "file_extension": ".py",
   "mimetype": "text/x-python",
   "name": "python",
   "nbconvert_exporter": "python",
   "pygments_lexer": "ipython3",
   "version": "3.8.5"
  }
 },
 "nbformat": 4,
 "nbformat_minor": 5
}
